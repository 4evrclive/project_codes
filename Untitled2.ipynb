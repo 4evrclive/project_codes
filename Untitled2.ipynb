{
  "nbformat": 4,
  "nbformat_minor": 0,
  "metadata": {
    "colab": {
      "provenance": [],
      "authorship_tag": "ABX9TyNBDRzF4URyToAG1ryp+4nC",
      "include_colab_link": true
    },
    "kernelspec": {
      "name": "python3",
      "display_name": "Python 3"
    },
    "language_info": {
      "name": "python"
    }
  },
  "cells": [
    {
      "cell_type": "markdown",
      "metadata": {
        "id": "view-in-github",
        "colab_type": "text"
      },
      "source": [
        "<a href=\"https://colab.research.google.com/github/4evrclive/project_codes/blob/main/Untitled2.ipynb\" target=\"_parent\"><img src=\"https://colab.research.google.com/assets/colab-badge.svg\" alt=\"Open In Colab\"/></a>"
      ]
    },
    {
      "cell_type": "code",
      "execution_count": 7,
      "metadata": {
        "colab": {
          "base_uri": "https://localhost:8080/",
          "height": 140
        },
        "id": "q6kd5_jLaGph",
        "outputId": "914cdd08-e579-430e-b609-b21efbe45ef1"
      },
      "outputs": [
        {
          "output_type": "error",
          "ename": "SyntaxError",
          "evalue": "ignored",
          "traceback": [
            "\u001b[0;36m  File \u001b[0;32m\"<ipython-input-7-a5e4cbde7398>\"\u001b[0;36m, line \u001b[0;32m1\u001b[0m\n\u001b[0;31m    from sklearn.model_selection import\u001b[0m\n\u001b[0m                                       ^\u001b[0m\n\u001b[0;31mSyntaxError\u001b[0m\u001b[0;31m:\u001b[0m invalid syntax\n"
          ]
        }
      ],
      "source": [
        "from sklearn.model_selection import\n",
        "train_test_split\n",
        "from sklearn.ensemble import\n",
        "RandomForestClassifier\n",
        "from sklearn.metrics import\n",
        "accuracy_score, classification_report, confusion_matrix\n",
        "data = pd.read_csv('equipment_data.csv')\n",
        "data = data.dropna()\n",
        "data['temperature'] = data ['temperature'].astype(float)\n",
        "data['mean_pressure'] = data ['pressure'].rolling(window=30).mean()\n",
        "data['std_pressure'] = data['pressure'].rolling(window=30).std()\n",
        "X = data[['temperature','mean_pressure','std_pressure']]\n",
        "y = data['failure']\n",
        "X_train, X_test, y_train, y_test = train_test_split(X, y, test_size=0.2, random_state=42)\n",
        "rfc = RandomForestClassifier(n_estimators=100, random_state=42)\n",
        "rfc.fit(X_train, y_train)\n",
        "y_pred = rfc.predict(X_test)"
      ]
    }
  ]
}